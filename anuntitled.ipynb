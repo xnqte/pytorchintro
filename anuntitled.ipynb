{
  "nbformat": 4,
  "nbformat_minor": 0,
  "metadata": {
    "colab": {
      "provenance": [],
      "gpuType": "T4",
      "authorship_tag": "ABX9TyMMkXIabSS8N6HQETgQXkfT",
      "include_colab_link": true
    },
    "kernelspec": {
      "name": "python3",
      "display_name": "Python 3"
    },
    "language_info": {
      "name": "python"
    },
    "accelerator": "GPU"
  },
  "cells": [
    {
      "cell_type": "markdown",
      "metadata": {
        "id": "view-in-github",
        "colab_type": "text"
      },
      "source": [
        "<a href=\"https://colab.research.google.com/github/xnqte/pytorchintro/blob/main/anuntitled.ipynb\" target=\"_parent\"><img src=\"https://colab.research.google.com/assets/colab-badge.svg\" alt=\"Open In Colab\"/></a>"
      ]
    },
    {
      "cell_type": "code",
      "execution_count": 6,
      "metadata": {
        "id": "rXcHr7ehD6Z1"
      },
      "outputs": [],
      "source": [
        "import torch\n",
        "import torch.nn as nn\n",
        "import torch.nn.functional as F"
      ]
    },
    {
      "cell_type": "code",
      "source": [
        "#Class that inherits nn.Module\n",
        "class Model(nn.Module):\n",
        "  #input layer (4 features of the flower) -> hidden layer 1 (number of neurons) -> hl2 -> output\n",
        "  def __init__(self, in_features=4, h1=8, h2=9, out_features=3):\n",
        "    super().__init__() # instantiate our nn.Module\n",
        "    self.fc1 = nn.Linear(in_features, h1)\n",
        "    self.fc2 = nn.Linear(h1, h2)\n",
        "    self.out = nn.Linear(h2, out_features)\n",
        "\n",
        "  def forward(self, x):\n",
        "    x = F.relu(self.fc1(x))\n",
        "    x = F.relu(self.fc2(x))\n",
        "    x = self.out(x)\n",
        "\n",
        "    return x\n"
      ],
      "metadata": {
        "id": "_9cZZ0qaELyc"
      },
      "execution_count": 8,
      "outputs": []
    },
    {
      "cell_type": "code",
      "source": [
        "# pick a manual seed for randomization\n",
        "torch.manual_seed(41)\n",
        "#create instance of model\n",
        "model = Model()"
      ],
      "metadata": {
        "id": "F6I_MaONG0xw"
      },
      "execution_count": 9,
      "outputs": []
    }
  ]
}